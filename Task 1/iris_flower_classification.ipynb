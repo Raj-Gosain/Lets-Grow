{
  "cells": [
    {
      "cell_type": "code",
      "execution_count": 1,
      "id": "bcedd50a",
      "metadata": {
        "_cell_guid": "b1076dfc-b9ad-4769-8c92-a6c4dae69d19",
        "_uuid": "8f2839f25d086af736a60e9eeb907d3b93b6e0e5",
        "execution": {
          "iopub.execute_input": "2023-08-04T15:32:03.616112Z",
          "iopub.status.busy": "2023-08-04T15:32:03.615614Z",
          "iopub.status.idle": "2023-08-04T15:32:05.455987Z",
          "shell.execute_reply": "2023-08-04T15:32:05.454799Z"
        },
        "papermill": {
          "duration": 1.84863,
          "end_time": "2023-08-04T15:32:05.458775",
          "exception": false,
          "start_time": "2023-08-04T15:32:03.610145",
          "status": "completed"
        },
        "tags": [],
        "id": "bcedd50a"
      },
      "outputs": [],
      "source": [
        "import numpy as np\n",
        "import pandas\n",
        "import matplotlib.pyplot as plt\n",
        "import seaborn as sns\n",
        "from sklearn.model_selection import train_test_split\n",
        "from sklearn.linear_model import LogisticRegression\n",
        "from sklearn.tree import DecisionTreeClassifier\n",
        "from sklearn.neighbors import KNeighborsClassifier\n",
        "from sklearn.metrics import confusion_matrix"
      ]
    },
    {
      "cell_type": "code",
      "execution_count": 2,
      "id": "3109440f",
      "metadata": {
        "execution": {
          "iopub.execute_input": "2023-08-04T15:32:05.467710Z",
          "iopub.status.busy": "2023-08-04T15:32:05.467315Z",
          "iopub.status.idle": "2023-08-04T15:32:05.513454Z",
          "shell.execute_reply": "2023-08-04T15:32:05.512327Z"
        },
        "papermill": {
          "duration": 0.053747,
          "end_time": "2023-08-04T15:32:05.516339",
          "exception": false,
          "start_time": "2023-08-04T15:32:05.462592",
          "status": "completed"
        },
        "tags": [],
        "colab": {
          "base_uri": "https://localhost:8080/",
          "height": 206
        },
        "id": "3109440f",
        "outputId": "4987bb70-7116-4669-a3c3-eb998142b191"
      },
      "outputs": [
        {
          "output_type": "execute_result",
          "data": {
            "text/plain": [
              "   sepal_length  sepal_width  petal_length  petal_width      species\n",
              "0           5.1          3.5           1.4          0.2  Iris-setosa\n",
              "1           4.9          3.0           1.4          0.2  Iris-setosa\n",
              "2           4.7          3.2           1.3          0.2  Iris-setosa\n",
              "3           4.6          3.1           1.5          0.2  Iris-setosa\n",
              "4           5.0          3.6           1.4          0.2  Iris-setosa"
            ],
            "text/html": [
              "\n",
              "  <div id=\"df-ea79f45e-fb64-4bd2-af02-90d9654e41a3\" class=\"colab-df-container\">\n",
              "    <div>\n",
              "<style scoped>\n",
              "    .dataframe tbody tr th:only-of-type {\n",
              "        vertical-align: middle;\n",
              "    }\n",
              "\n",
              "    .dataframe tbody tr th {\n",
              "        vertical-align: top;\n",
              "    }\n",
              "\n",
              "    .dataframe thead th {\n",
              "        text-align: right;\n",
              "    }\n",
              "</style>\n",
              "<table border=\"1\" class=\"dataframe\">\n",
              "  <thead>\n",
              "    <tr style=\"text-align: right;\">\n",
              "      <th></th>\n",
              "      <th>sepal_length</th>\n",
              "      <th>sepal_width</th>\n",
              "      <th>petal_length</th>\n",
              "      <th>petal_width</th>\n",
              "      <th>species</th>\n",
              "    </tr>\n",
              "  </thead>\n",
              "  <tbody>\n",
              "    <tr>\n",
              "      <th>0</th>\n",
              "      <td>5.1</td>\n",
              "      <td>3.5</td>\n",
              "      <td>1.4</td>\n",
              "      <td>0.2</td>\n",
              "      <td>Iris-setosa</td>\n",
              "    </tr>\n",
              "    <tr>\n",
              "      <th>1</th>\n",
              "      <td>4.9</td>\n",
              "      <td>3.0</td>\n",
              "      <td>1.4</td>\n",
              "      <td>0.2</td>\n",
              "      <td>Iris-setosa</td>\n",
              "    </tr>\n",
              "    <tr>\n",
              "      <th>2</th>\n",
              "      <td>4.7</td>\n",
              "      <td>3.2</td>\n",
              "      <td>1.3</td>\n",
              "      <td>0.2</td>\n",
              "      <td>Iris-setosa</td>\n",
              "    </tr>\n",
              "    <tr>\n",
              "      <th>3</th>\n",
              "      <td>4.6</td>\n",
              "      <td>3.1</td>\n",
              "      <td>1.5</td>\n",
              "      <td>0.2</td>\n",
              "      <td>Iris-setosa</td>\n",
              "    </tr>\n",
              "    <tr>\n",
              "      <th>4</th>\n",
              "      <td>5.0</td>\n",
              "      <td>3.6</td>\n",
              "      <td>1.4</td>\n",
              "      <td>0.2</td>\n",
              "      <td>Iris-setosa</td>\n",
              "    </tr>\n",
              "  </tbody>\n",
              "</table>\n",
              "</div>\n",
              "    <div class=\"colab-df-buttons\">\n",
              "\n",
              "  <div class=\"colab-df-container\">\n",
              "    <button class=\"colab-df-convert\" onclick=\"convertToInteractive('df-ea79f45e-fb64-4bd2-af02-90d9654e41a3')\"\n",
              "            title=\"Convert this dataframe to an interactive table.\"\n",
              "            style=\"display:none;\">\n",
              "\n",
              "  <svg xmlns=\"http://www.w3.org/2000/svg\" height=\"24px\" viewBox=\"0 -960 960 960\">\n",
              "    <path d=\"M120-120v-720h720v720H120Zm60-500h600v-160H180v160Zm220 220h160v-160H400v160Zm0 220h160v-160H400v160ZM180-400h160v-160H180v160Zm440 0h160v-160H620v160ZM180-180h160v-160H180v160Zm440 0h160v-160H620v160Z\"/>\n",
              "  </svg>\n",
              "    </button>\n",
              "\n",
              "  <style>\n",
              "    .colab-df-container {\n",
              "      display:flex;\n",
              "      gap: 12px;\n",
              "    }\n",
              "\n",
              "    .colab-df-convert {\n",
              "      background-color: #E8F0FE;\n",
              "      border: none;\n",
              "      border-radius: 50%;\n",
              "      cursor: pointer;\n",
              "      display: none;\n",
              "      fill: #1967D2;\n",
              "      height: 32px;\n",
              "      padding: 0 0 0 0;\n",
              "      width: 32px;\n",
              "    }\n",
              "\n",
              "    .colab-df-convert:hover {\n",
              "      background-color: #E2EBFA;\n",
              "      box-shadow: 0px 1px 2px rgba(60, 64, 67, 0.3), 0px 1px 3px 1px rgba(60, 64, 67, 0.15);\n",
              "      fill: #174EA6;\n",
              "    }\n",
              "\n",
              "    .colab-df-buttons div {\n",
              "      margin-bottom: 4px;\n",
              "    }\n",
              "\n",
              "    [theme=dark] .colab-df-convert {\n",
              "      background-color: #3B4455;\n",
              "      fill: #D2E3FC;\n",
              "    }\n",
              "\n",
              "    [theme=dark] .colab-df-convert:hover {\n",
              "      background-color: #434B5C;\n",
              "      box-shadow: 0px 1px 3px 1px rgba(0, 0, 0, 0.15);\n",
              "      filter: drop-shadow(0px 1px 2px rgba(0, 0, 0, 0.3));\n",
              "      fill: #FFFFFF;\n",
              "    }\n",
              "  </style>\n",
              "\n",
              "    <script>\n",
              "      const buttonEl =\n",
              "        document.querySelector('#df-ea79f45e-fb64-4bd2-af02-90d9654e41a3 button.colab-df-convert');\n",
              "      buttonEl.style.display =\n",
              "        google.colab.kernel.accessAllowed ? 'block' : 'none';\n",
              "\n",
              "      async function convertToInteractive(key) {\n",
              "        const element = document.querySelector('#df-ea79f45e-fb64-4bd2-af02-90d9654e41a3');\n",
              "        const dataTable =\n",
              "          await google.colab.kernel.invokeFunction('convertToInteractive',\n",
              "                                                    [key], {});\n",
              "        if (!dataTable) return;\n",
              "\n",
              "        const docLinkHtml = 'Like what you see? Visit the ' +\n",
              "          '<a target=\"_blank\" href=https://colab.research.google.com/notebooks/data_table.ipynb>data table notebook</a>'\n",
              "          + ' to learn more about interactive tables.';\n",
              "        element.innerHTML = '';\n",
              "        dataTable['output_type'] = 'display_data';\n",
              "        await google.colab.output.renderOutput(dataTable, element);\n",
              "        const docLink = document.createElement('div');\n",
              "        docLink.innerHTML = docLinkHtml;\n",
              "        element.appendChild(docLink);\n",
              "      }\n",
              "    </script>\n",
              "  </div>\n",
              "\n",
              "\n",
              "<div id=\"df-e07098f2-cab1-4ac4-b023-506d502623bd\">\n",
              "  <button class=\"colab-df-quickchart\" onclick=\"quickchart('df-e07098f2-cab1-4ac4-b023-506d502623bd')\"\n",
              "            title=\"Suggest charts.\"\n",
              "            style=\"display:none;\">\n",
              "\n",
              "<svg xmlns=\"http://www.w3.org/2000/svg\" height=\"24px\"viewBox=\"0 0 24 24\"\n",
              "     width=\"24px\">\n",
              "    <g>\n",
              "        <path d=\"M19 3H5c-1.1 0-2 .9-2 2v14c0 1.1.9 2 2 2h14c1.1 0 2-.9 2-2V5c0-1.1-.9-2-2-2zM9 17H7v-7h2v7zm4 0h-2V7h2v10zm4 0h-2v-4h2v4z\"/>\n",
              "    </g>\n",
              "</svg>\n",
              "  </button>\n",
              "\n",
              "<style>\n",
              "  .colab-df-quickchart {\n",
              "    background-color: #E8F0FE;\n",
              "    border: none;\n",
              "    border-radius: 50%;\n",
              "    cursor: pointer;\n",
              "    display: none;\n",
              "    fill: #1967D2;\n",
              "    height: 32px;\n",
              "    padding: 0 0 0 0;\n",
              "    width: 32px;\n",
              "  }\n",
              "\n",
              "  .colab-df-quickchart:hover {\n",
              "    background-color: #E2EBFA;\n",
              "    box-shadow: 0px 1px 2px rgba(60, 64, 67, 0.3), 0px 1px 3px 1px rgba(60, 64, 67, 0.15);\n",
              "    fill: #174EA6;\n",
              "  }\n",
              "\n",
              "  [theme=dark] .colab-df-quickchart {\n",
              "    background-color: #3B4455;\n",
              "    fill: #D2E3FC;\n",
              "  }\n",
              "\n",
              "  [theme=dark] .colab-df-quickchart:hover {\n",
              "    background-color: #434B5C;\n",
              "    box-shadow: 0px 1px 3px 1px rgba(0, 0, 0, 0.15);\n",
              "    filter: drop-shadow(0px 1px 2px rgba(0, 0, 0, 0.3));\n",
              "    fill: #FFFFFF;\n",
              "  }\n",
              "</style>\n",
              "\n",
              "  <script>\n",
              "    async function quickchart(key) {\n",
              "      const charts = await google.colab.kernel.invokeFunction(\n",
              "          'suggestCharts', [key], {});\n",
              "    }\n",
              "    (() => {\n",
              "      let quickchartButtonEl =\n",
              "        document.querySelector('#df-e07098f2-cab1-4ac4-b023-506d502623bd button');\n",
              "      quickchartButtonEl.style.display =\n",
              "        google.colab.kernel.accessAllowed ? 'block' : 'none';\n",
              "    })();\n",
              "  </script>\n",
              "</div>\n",
              "    </div>\n",
              "  </div>\n"
            ]
          },
          "metadata": {},
          "execution_count": 2
        }
      ],
      "source": [
        "dataset = pandas.read_csv(\"IRIS.csv\")\n",
        "dataset.head()"
      ]
    },
    {
      "cell_type": "code",
      "execution_count": 3,
      "id": "f329de8c",
      "metadata": {
        "execution": {
          "iopub.execute_input": "2023-08-04T15:32:05.525274Z",
          "iopub.status.busy": "2023-08-04T15:32:05.524870Z",
          "iopub.status.idle": "2023-08-04T15:32:05.552622Z",
          "shell.execute_reply": "2023-08-04T15:32:05.551437Z"
        },
        "papermill": {
          "duration": 0.035459,
          "end_time": "2023-08-04T15:32:05.555508",
          "exception": false,
          "start_time": "2023-08-04T15:32:05.520049",
          "status": "completed"
        },
        "tags": [],
        "colab": {
          "base_uri": "https://localhost:8080/"
        },
        "id": "f329de8c",
        "outputId": "15b6298c-c757-48fd-e4f2-6f85b6379a54"
      },
      "outputs": [
        {
          "output_type": "stream",
          "name": "stdout",
          "text": [
            "<class 'pandas.core.frame.DataFrame'>\n",
            "RangeIndex: 150 entries, 0 to 149\n",
            "Data columns (total 5 columns):\n",
            " #   Column        Non-Null Count  Dtype  \n",
            "---  ------        --------------  -----  \n",
            " 0   sepal_length  150 non-null    float64\n",
            " 1   sepal_width   150 non-null    float64\n",
            " 2   petal_length  150 non-null    float64\n",
            " 3   petal_width   150 non-null    float64\n",
            " 4   species       150 non-null    object \n",
            "dtypes: float64(4), object(1)\n",
            "memory usage: 6.0+ KB\n"
          ]
        }
      ],
      "source": [
        "dataset.info()"
      ]
    },
    {
      "cell_type": "code",
      "execution_count": 4,
      "id": "a9d5c61f",
      "metadata": {
        "execution": {
          "iopub.execute_input": "2023-08-04T15:32:05.565164Z",
          "iopub.status.busy": "2023-08-04T15:32:05.564802Z",
          "iopub.status.idle": "2023-08-04T15:32:05.571644Z",
          "shell.execute_reply": "2023-08-04T15:32:05.570577Z"
        },
        "papermill": {
          "duration": 0.014328,
          "end_time": "2023-08-04T15:32:05.573978",
          "exception": false,
          "start_time": "2023-08-04T15:32:05.559650",
          "status": "completed"
        },
        "tags": [],
        "colab": {
          "base_uri": "https://localhost:8080/"
        },
        "id": "a9d5c61f",
        "outputId": "c4aba622-0e81-47a3-d39f-0766b32a5294"
      },
      "outputs": [
        {
          "output_type": "execute_result",
          "data": {
            "text/plain": [
              "array(['Iris-setosa', 'Iris-versicolor', 'Iris-virginica'], dtype=object)"
            ]
          },
          "metadata": {},
          "execution_count": 4
        }
      ],
      "source": [
        "dataset['species'].unique()"
      ]
    },
    {
      "cell_type": "code",
      "execution_count": 5,
      "id": "23af0d29",
      "metadata": {
        "execution": {
          "iopub.execute_input": "2023-08-04T15:32:05.583737Z",
          "iopub.status.busy": "2023-08-04T15:32:05.583348Z",
          "iopub.status.idle": "2023-08-04T15:32:05.841670Z",
          "shell.execute_reply": "2023-08-04T15:32:05.840564Z"
        },
        "papermill": {
          "duration": 0.265533,
          "end_time": "2023-08-04T15:32:05.843821",
          "exception": false,
          "start_time": "2023-08-04T15:32:05.578288",
          "status": "completed"
        },
        "tags": [],
        "colab": {
          "base_uri": "https://localhost:8080/",
          "height": 452
        },
        "id": "23af0d29",
        "outputId": "720d7c89-d5a8-4fc6-9c60-3134c94ca344"
      },
      "outputs": [
        {
          "output_type": "display_data",
          "data": {
            "text/plain": [
              "<Figure size 640x480 with 1 Axes>"
            ],
            "image/png": "[encoded data removed]"
          },
          "metadata": {}
        }
      ],
      "source": [
        "x1 = dataset.loc[dataset['species'] == 'Iris-setosa', 'sepal_length']\n",
        "y1 = dataset.loc[dataset['species'] == 'Iris-setosa', 'sepal_width']\n",
        "\n",
        "x2 = dataset.loc[dataset['species'] == 'Iris-versicolor', 'sepal_length']\n",
        "y2 = dataset.loc[dataset['species'] == 'Iris-versicolor', 'sepal_width']\n",
        "\n",
        "x3 = dataset.loc[dataset['species'] == 'Iris-virginica', 'sepal_length']\n",
        "y3 = dataset.loc[dataset['species'] == 'Iris-virginica', 'sepal_width']\n",
        "\n",
        "plt.plot(x1, y1, '.', color = 'crimson')\n",
        "plt.plot(x2, y2, '.', color = 'green')\n",
        "plt.plot(x3, y3, '.', color = 'blue')\n",
        "plt.xlabel('sepal-length')\n",
        "plt.ylabel('sepal-width')\n",
        "plt.show()"
      ]
    },
    {
      "cell_type": "code",
      "execution_count": 6,
      "id": "c530905c",
      "metadata": {
        "execution": {
          "iopub.execute_input": "2023-08-04T15:32:05.854108Z",
          "iopub.status.busy": "2023-08-04T15:32:05.853697Z",
          "iopub.status.idle": "2023-08-04T15:32:06.081988Z",
          "shell.execute_reply": "2023-08-04T15:32:06.081026Z"
        },
        "papermill": {
          "duration": 0.236252,
          "end_time": "2023-08-04T15:32:06.084307",
          "exception": false,
          "start_time": "2023-08-04T15:32:05.848055",
          "status": "completed"
        },
        "tags": [],
        "colab": {
          "base_uri": "https://localhost:8080/",
          "height": 449
        },
        "id": "c530905c",
        "outputId": "b4ee4853-e545-406e-9148-ec3010a4ac65"
      },
      "outputs": [
        {
          "output_type": "display_data",
          "data": {
            "text/plain": [
              "<Figure size 640x480 with 1 Axes>"
            ],
            "image/png": "[encoded data removed]"
          },
          "metadata": {}
        }
      ],
      "source": [
        "x1 = dataset.loc[dataset['species'] == 'Iris-setosa', 'petal_length']\n",
        "y1 = dataset.loc[dataset['species'] == 'Iris-setosa', 'petal_width']\n",
        "\n",
        "x2 = dataset.loc[dataset['species'] == 'Iris-versicolor', 'petal_length']\n",
        "y2 = dataset.loc[dataset['species'] == 'Iris-versicolor', 'petal_width']\n",
        "\n",
        "x3 = dataset.loc[dataset['species'] == 'Iris-virginica', 'petal_length']\n",
        "y3 = dataset.loc[dataset['species'] == 'Iris-virginica', 'petal_width']\n",
        "\n",
        "plt.plot(x1, y1, '.', color = 'crimson')\n",
        "plt.plot(x2, y2, '.', color = 'green')\n",
        "plt.plot(x3, y3, '.', color = 'blue')\n",
        "plt.xlabel('petal-length')\n",
        "plt.ylabel('petal-width')\n",
        "plt.show()"
      ]
    },
    {
      "cell_type": "code",
      "execution_count": 7,
      "id": "9ef8aba7",
      "metadata": {
        "execution": {
          "iopub.execute_input": "2023-08-04T15:32:06.095363Z",
          "iopub.status.busy": "2023-08-04T15:32:06.094951Z",
          "iopub.status.idle": "2023-08-04T15:32:06.100553Z",
          "shell.execute_reply": "2023-08-04T15:32:06.099449Z"
        },
        "papermill": {
          "duration": 0.013427,
          "end_time": "2023-08-04T15:32:06.102730",
          "exception": false,
          "start_time": "2023-08-04T15:32:06.089303",
          "status": "completed"
        },
        "tags": [],
        "id": "9ef8aba7"
      },
      "outputs": [],
      "source": [
        "X = dataset.iloc[:, :-1]\n",
        "y = dataset.iloc[:, -1]"
      ]
    },
    {
      "cell_type": "code",
      "execution_count": 8,
      "id": "eb6e94a5",
      "metadata": {
        "execution": {
          "iopub.execute_input": "2023-08-04T15:32:06.113104Z",
          "iopub.status.busy": "2023-08-04T15:32:06.112749Z",
          "iopub.status.idle": "2023-08-04T15:32:06.119157Z",
          "shell.execute_reply": "2023-08-04T15:32:06.118393Z"
        },
        "papermill": {
          "duration": 0.01377,
          "end_time": "2023-08-04T15:32:06.121024",
          "exception": false,
          "start_time": "2023-08-04T15:32:06.107254",
          "status": "completed"
        },
        "tags": [],
        "id": "eb6e94a5"
      },
      "outputs": [],
      "source": [
        "X_train, X_test, y_train, y_test = train_test_split(X, y, test_size = 0.25, random_state = 6)"
      ]
    },
    {
      "cell_type": "code",
      "execution_count": 9,
      "id": "667e87e5",
      "metadata": {
        "execution": {
          "iopub.execute_input": "2023-08-04T15:32:06.132328Z",
          "iopub.status.busy": "2023-08-04T15:32:06.131686Z",
          "iopub.status.idle": "2023-08-04T15:32:06.137069Z",
          "shell.execute_reply": "2023-08-04T15:32:06.136069Z"
        },
        "papermill": {
          "duration": 0.013598,
          "end_time": "2023-08-04T15:32:06.139281",
          "exception": false,
          "start_time": "2023-08-04T15:32:06.125683",
          "status": "completed"
        },
        "tags": [],
        "id": "667e87e5"
      },
      "outputs": [],
      "source": [
        "knn = KNeighborsClassifier(n_neighbors = 3, weights = 'distance')\n",
        "dt = DecisionTreeClassifier()\n",
        "lr = LogisticRegression(solver = 'liblinear')\n",
        "acc = {}"
      ]
    },
    {
      "cell_type": "code",
      "execution_count": 10,
      "id": "b37b3eda",
      "metadata": {
        "execution": {
          "iopub.execute_input": "2023-08-04T15:32:06.149374Z",
          "iopub.status.busy": "2023-08-04T15:32:06.149009Z",
          "iopub.status.idle": "2023-08-04T15:32:06.170673Z",
          "shell.execute_reply": "2023-08-04T15:32:06.169446Z"
        },
        "papermill": {
          "duration": 0.029276,
          "end_time": "2023-08-04T15:32:06.173033",
          "exception": false,
          "start_time": "2023-08-04T15:32:06.143757",
          "status": "completed"
        },
        "tags": [],
        "colab": {
          "base_uri": "https://localhost:8080/",
          "height": 74
        },
        "id": "b37b3eda",
        "outputId": "018a30b2-64d8-453e-aef2-e97f2552be37"
      },
      "outputs": [
        {
          "output_type": "execute_result",
          "data": {
            "text/plain": [
              "DecisionTreeClassifier()"
            ],
            "text/html": [
              "<style>#sk-container-id-1 {color: black;background-color: white;}#sk-container-id-1 pre{padding: 0;}#sk-container-id-1 div.sk-toggleable {background-color: white;}#sk-container-id-1 label.sk-toggleable__label {cursor: pointer;display: block;width: 100%;margin-bottom: 0;padding: 0.3em;box-sizing: border-box;text-align: center;}#sk-container-id-1 label.sk-toggleable__label-arrow:before {content: \"▸\";float: left;margin-right: 0.25em;color: #696969;}#sk-container-id-1 label.sk-toggleable__label-arrow:hover:before {color: black;}#sk-container-id-1 div.sk-estimator:hover label.sk-toggleable__label-arrow:before {color: black;}#sk-container-id-1 div.sk-toggleable__content {max-height: 0;max-width: 0;overflow: hidden;text-align: left;background-color: #f0f8ff;}#sk-container-id-1 div.sk-toggleable__content pre {margin: 0.2em;color: black;border-radius: 0.25em;background-color: #f0f8ff;}#sk-container-id-1 input.sk-toggleable__control:checked~div.sk-toggleable__content {max-height: 200px;max-width: 100%;overflow: auto;}#sk-container-id-1 input.sk-toggleable__control:checked~label.sk-toggleable__label-arrow:before {content: \"▾\";}#sk-container-id-1 div.sk-estimator input.sk-toggleable__control:checked~label.sk-toggleable__label {background-color: #d4ebff;}#sk-container-id-1 div.sk-label input.sk-toggleable__control:checked~label.sk-toggleable__label {background-color: #d4ebff;}#sk-container-id-1 input.sk-hidden--visually {border: 0;clip: rect(1px 1px 1px 1px);clip: rect(1px, 1px, 1px, 1px);height: 1px;margin: -1px;overflow: hidden;padding: 0;position: absolute;width: 1px;}#sk-container-id-1 div.sk-estimator {font-family: monospace;background-color: #f0f8ff;border: 1px dotted black;border-radius: 0.25em;box-sizing: border-box;margin-bottom: 0.5em;}#sk-container-id-1 div.sk-estimator:hover {background-color: #d4ebff;}#sk-container-id-1 div.sk-parallel-item::after {content: \"\";width: 100%;border-bottom: 1px solid gray;flex-grow: 1;}#sk-container-id-1 div.sk-label:hover label.sk-toggleable__label {background-color: #d4ebff;}#sk-container-id-1 div.sk-serial::before {content: \"\";position: absolute;border-left: 1px solid gray;box-sizing: border-box;top: 0;bottom: 0;left: 50%;z-index: 0;}#sk-container-id-1 div.sk-serial {display: flex;flex-direction: column;align-items: center;background-color: white;padding-right: 0.2em;padding-left: 0.2em;position: relative;}#sk-container-id-1 div.sk-item {position: relative;z-index: 1;}#sk-container-id-1 div.sk-parallel {display: flex;align-items: stretch;justify-content: center;background-color: white;position: relative;}#sk-container-id-1 div.sk-item::before, #sk-container-id-1 div.sk-parallel-item::before {content: \"\";position: absolute;border-left: 1px solid gray;box-sizing: border-box;top: 0;bottom: 0;left: 50%;z-index: -1;}#sk-container-id-1 div.sk-parallel-item {display: flex;flex-direction: column;z-index: 1;position: relative;background-color: white;}#sk-container-id-1 div.sk-parallel-item:first-child::after {align-self: flex-end;width: 50%;}#sk-container-id-1 div.sk-parallel-item:last-child::after {align-self: flex-start;width: 50%;}#sk-container-id-1 div.sk-parallel-item:only-child::after {width: 0;}#sk-container-id-1 div.sk-dashed-wrapped {border: 1px dashed gray;margin: 0 0.4em 0.5em 0.4em;box-sizing: border-box;padding-bottom: 0.4em;background-color: white;}#sk-container-id-1 div.sk-label label {font-family: monospace;font-weight: bold;display: inline-block;line-height: 1.2em;}#sk-container-id-1 div.sk-label-container {text-align: center;}#sk-container-id-1 div.sk-container {/* jupyter's `normalize.less` sets `[hidden] { display: none; }` but bootstrap.min.css set `[hidden] { display: none !important; }` so we also need the `!important` here to be able to override the default hidden behavior on the sphinx rendered scikit-learn.org. See: https://github.com/scikit-learn/scikit-learn/issues/21755 */display: inline-block !important;position: relative;}#sk-container-id-1 div.sk-text-repr-fallback {display: none;}</style><div id=\"sk-container-id-1\" class=\"sk-top-container\"><div class=\"sk-text-repr-fallback\"><pre>DecisionTreeClassifier()</pre><b>In a Jupyter environment, please rerun this cell to show the HTML representation or trust the notebook. <br />On GitHub, the HTML representation is unable to render, please try loading this page with nbviewer.org.</b></div><div class=\"sk-container\" hidden><div class=\"sk-item\"><div class=\"sk-estimator sk-toggleable\"><input class=\"sk-toggleable__control sk-hidden--visually\" id=\"sk-estimator-id-1\" type=\"checkbox\" checked><label for=\"sk-estimator-id-1\" class=\"sk-toggleable__label sk-toggleable__label-arrow\">DecisionTreeClassifier</label><div class=\"sk-toggleable__content\"><pre>DecisionTreeClassifier()</pre></div></div></div></div></div>"
            ]
          },
          "metadata": {},
          "execution_count": 10
        }
      ],
      "source": [
        "knn.fit(X_train, y_train)\n",
        "lr.fit(X_train, y_train)\n",
        "dt.fit(X_train, y_train)"
      ]
    },
    {
      "cell_type": "code",
      "execution_count": 11,
      "id": "d61fa228",
      "metadata": {
        "execution": {
          "iopub.execute_input": "2023-08-04T15:32:06.185010Z",
          "iopub.status.busy": "2023-08-04T15:32:06.184313Z",
          "iopub.status.idle": "2023-08-04T15:32:06.205302Z",
          "shell.execute_reply": "2023-08-04T15:32:06.203991Z"
        },
        "papermill": {
          "duration": 0.029814,
          "end_time": "2023-08-04T15:32:06.207913",
          "exception": false,
          "start_time": "2023-08-04T15:32:06.178099",
          "status": "completed"
        },
        "tags": [],
        "colab": {
          "base_uri": "https://localhost:8080/",
          "height": 143
        },
        "id": "d61fa228",
        "outputId": "45c3ad0c-66ef-40ab-96bf-34146d31550e"
      },
      "outputs": [
        {
          "output_type": "execute_result",
          "data": {
            "text/plain": [
              "               models  accuracy\n",
              "0        DecisionTree  0.921053\n",
              "1  LogisticRegression  0.973684\n",
              "2                 KNN  0.947368"
            ],
            "text/html": [
              "\n",
              "  <div id=\"df-4844f9b6-fc38-423f-b845-e988e8d2c762\" class=\"colab-df-container\">\n",
              "    <div>\n",
              "<style scoped>\n",
              "    .dataframe tbody tr th:only-of-type {\n",
              "        vertical-align: middle;\n",
              "    }\n",
              "\n",
              "    .dataframe tbody tr th {\n",
              "        vertical-align: top;\n",
              "    }\n",
              "\n",
              "    .dataframe thead th {\n",
              "        text-align: right;\n",
              "    }\n",
              "</style>\n",
              "<table border=\"1\" class=\"dataframe\">\n",
              "  <thead>\n",
              "    <tr style=\"text-align: right;\">\n",
              "      <th></th>\n",
              "      <th>models</th>\n",
              "      <th>accuracy</th>\n",
              "    </tr>\n",
              "  </thead>\n",
              "  <tbody>\n",
              "    <tr>\n",
              "      <th>0</th>\n",
              "      <td>DecisionTree</td>\n",
              "      <td>0.921053</td>\n",
              "    </tr>\n",
              "    <tr>\n",
              "      <th>1</th>\n",
              "      <td>LogisticRegression</td>\n",
              "      <td>0.973684</td>\n",
              "    </tr>\n",
              "    <tr>\n",
              "      <th>2</th>\n",
              "      <td>KNN</td>\n",
              "      <td>0.947368</td>\n",
              "    </tr>\n",
              "  </tbody>\n",
              "</table>\n",
              "</div>\n",
              "    <div class=\"colab-df-buttons\">\n",
              "\n",
              "  <div class=\"colab-df-container\">\n",
              "    <button class=\"colab-df-convert\" onclick=\"convertToInteractive('df-4844f9b6-fc38-423f-b845-e988e8d2c762')\"\n",
              "            title=\"Convert this dataframe to an interactive table.\"\n",
              "            style=\"display:none;\">\n",
              "\n",
              "  <svg xmlns=\"http://www.w3.org/2000/svg\" height=\"24px\" viewBox=\"0 -960 960 960\">\n",
              "    <path d=\"M120-120v-720h720v720H120Zm60-500h600v-160H180v160Zm220 220h160v-160H400v160Zm0 220h160v-160H400v160ZM180-400h160v-160H180v160Zm440 0h160v-160H620v160ZM180-180h160v-160H180v160Zm440 0h160v-160H620v160Z\"/>\n",
              "  </svg>\n",
              "    </button>\n",
              "\n",
              "  <style>\n",
              "    .colab-df-container {\n",
              "      display:flex;\n",
              "      gap: 12px;\n",
              "    }\n",
              "\n",
              "    .colab-df-convert {\n",
              "      background-color: #E8F0FE;\n",
              "      border: none;\n",
              "      border-radius: 50%;\n",
              "      cursor: pointer;\n",
              "      display: none;\n",
              "      fill: #1967D2;\n",
              "      height: 32px;\n",
              "      padding: 0 0 0 0;\n",
              "      width: 32px;\n",
              "    }\n",
              "\n",
              "    .colab-df-convert:hover {\n",
              "      background-color: #E2EBFA;\n",
              "      box-shadow: 0px 1px 2px rgba(60, 64, 67, 0.3), 0px 1px 3px 1px rgba(60, 64, 67, 0.15);\n",
              "      fill: #174EA6;\n",
              "    }\n",
              "\n",
              "    .colab-df-buttons div {\n",
              "      margin-bottom: 4px;\n",
              "    }\n",
              "\n",
              "    [theme=dark] .colab-df-convert {\n",
              "      background-color: #3B4455;\n",
              "      fill: #D2E3FC;\n",
              "    }\n",
              "\n",
              "    [theme=dark] .colab-df-convert:hover {\n",
              "      background-color: #434B5C;\n",
              "      box-shadow: 0px 1px 3px 1px rgba(0, 0, 0, 0.15);\n",
              "      filter: drop-shadow(0px 1px 2px rgba(0, 0, 0, 0.3));\n",
              "      fill: #FFFFFF;\n",
              "    }\n",
              "  </style>\n",
              "\n",
              "    <script>\n",
              "      const buttonEl =\n",
              "        document.querySelector('#df-4844f9b6-fc38-423f-b845-e988e8d2c762 button.colab-df-convert');\n",
              "      buttonEl.style.display =\n",
              "        google.colab.kernel.accessAllowed ? 'block' : 'none';\n",
              "\n",
              "      async function convertToInteractive(key) {\n",
              "        const element = document.querySelector('#df-4844f9b6-fc38-423f-b845-e988e8d2c762');\n",
              "        const dataTable =\n",
              "          await google.colab.kernel.invokeFunction('convertToInteractive',\n",
              "                                                    [key], {});\n",
              "        if (!dataTable) return;\n",
              "\n",
              "        const docLinkHtml = 'Like what you see? Visit the ' +\n",
              "          '<a target=\"_blank\" href=https://colab.research.google.com/notebooks/data_table.ipynb>data table notebook</a>'\n",
              "          + ' to learn more about interactive tables.';\n",
              "        element.innerHTML = '';\n",
              "        dataTable['output_type'] = 'display_data';\n",
              "        await google.colab.output.renderOutput(dataTable, element);\n",
              "        const docLink = document.createElement('div');\n",
              "        docLink.innerHTML = docLinkHtml;\n",
              "        element.appendChild(docLink);\n",
              "      }\n",
              "    </script>\n",
              "  </div>\n",
              "\n",
              "    </div>\n",
              "  </div>\n"
            ]
          },
          "metadata": {},
          "execution_count": 11
        }
      ],
      "source": [
        "a,b,c = dt.score(X_test, y_test), lr.score(X_test, y_test), knn.score(X_test, y_test)\n",
        "acc = pandas.DataFrame({'models' :['DecisionTree', 'LogisticRegression', 'KNN'], 'accuracy': [a, b, c]})\n",
        "acc"
      ]
    }
  ],
  "metadata": {
    "kernelspec": {
      "display_name": "Python 3",
      "language": "python",
      "name": "python3"
    },
    "language_info": {
      "codemirror_mode": {
        "name": "ipython",
        "version": 3
      },
      "file_extension": ".py",
      "mimetype": "text/x-python",
      "name": "python",
      "nbconvert_exporter": "python",
      "pygments_lexer": "ipython3",
      "version": "3.10.9"
    },
    "papermill": {
      "default_parameters": {},
      "duration": 12.704981,
      "end_time": "2023-08-04T15:32:07.135274",
      "environment_variables": {},
      "exception": null,
      "input_path": "__notebook__.ipynb",
      "output_path": "__notebook__.ipynb",
      "parameters": {},
      "start_time": "2023-08-04T15:31:54.430293",
      "version": "2.4.0"
    },
    "colab": {
      "provenance": []
    }
  },
  "nbformat": 4,
  "nbformat_minor": 5
}